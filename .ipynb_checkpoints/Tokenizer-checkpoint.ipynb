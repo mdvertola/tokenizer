{
 "cells": [
  {
   "cell_type": "code",
   "execution_count": 2,
   "metadata": {
    "scrolled": true
   },
   "outputs": [],
   "source": [
    "import tensorflow as tf\n",
    "from tensorflow import keras\n",
    "from tensorflow.keras.preprocessing.text import Tokenizer\n",
    "import re\n",
    "import pandas as pd\n",
    "import pickle"
   ]
  },
  {
   "cell_type": "code",
   "execution_count": null,
   "metadata": {},
   "outputs": [],
   "source": [
    "# Seperate code"
   ]
  },
  {
   "cell_type": "code",
   "execution_count": 3,
   "metadata": {},
   "outputs": [],
   "source": [
    "# import code files\n",
    "path= \"C:/Users/matt/OneDrive - University of Arizona/Desktop/GitStackData/\"\n",
    "\n",
    "stackPy = pd.read_csv(path+'stackPostsPython.csv')\n",
    "stackC = pd.read_csv(path+'stackPostsC.csv')\n",
    "gitBandit = pd.read_csv(path+'BanditExportWSnippets.csv')\n",
    "gitFlawf = pd.read_csv(path+'FlawFinderExportWSnippets.csv')\n",
    "gitCPP = pd.read_csv(path+'CPPExportWSnippets.csv')\n",
    "\n"
   ]
  },
  {
   "cell_type": "code",
   "execution_count": 28,
   "metadata": {},
   "outputs": [
    {
     "name": "stdout",
     "output_type": "stream",
     "text": [
      "<class 'pandas.core.frame.DataFrame'>\n"
     ]
    }
   ],
   "source": [
    "# Make code into dataframe and make headers the same\n",
    "stackPyCode = stackPy['AnswerSnippet'].to_frame()\n",
    "stackCCode = stackC['AnswerSnippet'].to_frame()\n",
    "stackPyCode.columns = ['Snippet']\n",
    "stackCCode.columns = ['Snippet']\n",
    "gitBanditCode = gitBandit['Snippet'].to_frame()\n",
    "gitFlawfCode = gitFlawf['Snippet'].to_frame()\n",
    "gitCPPCode = gitCPP['Snippet'].to_frame()\n",
    "\n",
    "print(type(stackPyCode))\n"
   ]
  },
  {
   "cell_type": "code",
   "execution_count": 92,
   "metadata": {},
   "outputs": [],
   "source": [
    "# combine code into one dataframe\n",
    "allCode = pd.concat(\n",
    "    [stackPyCode,stackCCode,gitBanditCode,gitFlawfCode,gitCPPCode],\n",
    "    axis=0,\n",
    "    join=\"outer\",\n",
    "    ignore_index=True,\n",
    "    keys=None,\n",
    "    levels=None,\n",
    "    names=None,\n",
    "    verify_integrity=False,\n",
    "    copy=True,\n",
    ")"
   ]
  },
  {
   "cell_type": "code",
   "execution_count": 93,
   "metadata": {},
   "outputs": [
    {
     "data": {
      "text/html": [
       "<div>\n",
       "<style scoped>\n",
       "    .dataframe tbody tr th:only-of-type {\n",
       "        vertical-align: middle;\n",
       "    }\n",
       "\n",
       "    .dataframe tbody tr th {\n",
       "        vertical-align: top;\n",
       "    }\n",
       "\n",
       "    .dataframe thead th {\n",
       "        text-align: right;\n",
       "    }\n",
       "</style>\n",
       "<table border=\"1\" class=\"dataframe\">\n",
       "  <thead>\n",
       "    <tr style=\"text-align: right;\">\n",
       "      <th></th>\n",
       "      <th>Snippet</th>\n",
       "    </tr>\n",
       "  </thead>\n",
       "  <tbody>\n",
       "    <tr>\n",
       "      <th>0</th>\n",
       "      <td>in foo = 12 foo in (obj.id for obj in bar)  ob...</td>\n",
       "    </tr>\n",
       "    <tr>\n",
       "      <th>1</th>\n",
       "      <td>groups = [] uniquekeys = [] for k g in groupby...</td>\n",
       "    </tr>\n",
       "    <tr>\n",
       "      <th>2</th>\n",
       "      <td>\"\"\" Create an G{nm} random graph with n nodes...</td>\n",
       "    </tr>\n",
       "    <tr>\n",
       "      <th>3</th>\n",
       "      <td>&amp;gt;&amp;gt;&amp;gt; 0b101111 47  &amp;gt;&amp;gt;&amp;gt; bin(173...</td>\n",
       "    </tr>\n",
       "    <tr>\n",
       "      <th>4</th>\n",
       "      <td>import msvcrt answer=msvcrt.getch()</td>\n",
       "    </tr>\n",
       "    <tr>\n",
       "      <th>...</th>\n",
       "      <td>...</td>\n",
       "    </tr>\n",
       "    <tr>\n",
       "      <th>1141511</th>\n",
       "      <td>dataSize= atol( ( char * ) inFileSize-&gt;inOutSt...</td>\n",
       "    </tr>\n",
       "    <tr>\n",
       "      <th>1141512</th>\n",
       "      <td>free( str );return USER_INPUT_FORMAT_ERR;}cach...</td>\n",
       "    </tr>\n",
       "    <tr>\n",
       "      <th>1141513</th>\n",
       "      <td>close( srcFd );return ret.code();}size_t singl...</td>\n",
       "    </tr>\n",
       "    <tr>\n",
       "      <th>1141514</th>\n",
       "      <td>// iterate over the rows and capture the data ...</td>\n",
       "    </tr>\n",
       "    <tr>\n",
       "      <th>1141515</th>\n",
       "      <td>// set the out variables_obj_path= coll_name+ ...</td>\n",
       "    </tr>\n",
       "  </tbody>\n",
       "</table>\n",
       "<p>1141516 rows × 1 columns</p>\n",
       "</div>"
      ],
      "text/plain": [
       "                                                   Snippet\n",
       "0        in foo = 12 foo in (obj.id for obj in bar)  ob...\n",
       "1        groups = [] uniquekeys = [] for k g in groupby...\n",
       "2         \"\"\" Create an G{nm} random graph with n nodes...\n",
       "3        &gt;&gt;&gt; 0b101111 47  &gt;&gt;&gt; bin(173...\n",
       "4                    import msvcrt answer=msvcrt.getch()  \n",
       "...                                                    ...\n",
       "1141511  dataSize= atol( ( char * ) inFileSize->inOutSt...\n",
       "1141512  free( str );return USER_INPUT_FORMAT_ERR;}cach...\n",
       "1141513  close( srcFd );return ret.code();}size_t singl...\n",
       "1141514  // iterate over the rows and capture the data ...\n",
       "1141515  // set the out variables_obj_path= coll_name+ ...\n",
       "\n",
       "[1141516 rows x 1 columns]"
      ]
     },
     "execution_count": 93,
     "metadata": {},
     "output_type": "execute_result"
    }
   ],
   "source": [
    "# check data frame\n",
    "allCode"
   ]
  },
  {
   "cell_type": "code",
   "execution_count": 4,
   "metadata": {},
   "outputs": [],
   "source": [
    "# # turn code files into lists\n",
    "# stackPyList = stackPy['AnswerSnippet'].tolist()\n",
    "# stackCList = stackC['AnswerSnippet'].tolist()\n",
    "# gitBanditList = gitBandit['Snippet'].tolist()\n",
    "# gitFlawfList = gitFlawf['Snippet'].tolist()\n",
    "# gitCPPList = gitCPP['Snippet'].tolist()\n",
    "\n",
    "# listsList = [stackPyList, stackCList, gitBanditList, gitFlawfList, gitCPPList]\n",
    "# # listsList = ['stackPyList', 'stackCList', 'gitBanditList', 'gitFlawfList', 'gitCPPList']"
   ]
  },
  {
   "cell_type": "code",
   "execution_count": 6,
   "metadata": {},
   "outputs": [
    {
     "name": "stdout",
     "output_type": "stream",
     "text": [
      "1141516\n"
     ]
    }
   ],
   "source": [
    "\n",
    "# allLists = []\n",
    "# for data in listsList:\n",
    "#     allLists = allLists + data\n",
    "    \n",
    "# print(len(allLists))"
   ]
  },
  {
   "cell_type": "code",
   "execution_count": 94,
   "metadata": {},
   "outputs": [],
   "source": [
    "# Regex Rules\n",
    "functionPattern = '[a-zA-Z._]+\\(.*?\\)+'\n",
    "functionNamePattern = '[a-zA-Z._]+\\('\n",
    "operationsPattern = '\\(.*?\\)+'\n",
    "cleanOperationsPattern = \"[^a-zA-Z0-9 .:&%*\\-_+=/%><!\\[\\]]+\"\n",
    "lettersPattern = \"[a-zA-Z]+\"\n"
   ]
  },
  {
   "cell_type": "code",
   "execution_count": 95,
   "metadata": {},
   "outputs": [],
   "source": [
    "# extract functions and clean \n",
    "allCode['functions'] = [re.findall(functionNamePattern, str(x)) for x in allCode['Snippet']]\n",
    "allCode['functions'] = [re.findall(lettersPattern, str(x)) for x in allCode['functions']]\n",
    "\n"
   ]
  },
  {
   "cell_type": "code",
   "execution_count": 96,
   "metadata": {},
   "outputs": [],
   "source": [
    "# extract operations and clean\n",
    "allCode['operations'] = [re.findall(operationsPattern, str(x)) for x in allCode['Snippet']]\n",
    "allCode['operations'] = [re.findall(operationsPattern, str(x)) for x in allCode['Snippet']]\n",
    "allCode['operations']= [re.sub(cleanOperationsPattern,'',str(x)) for x in allCode['operations']]\n",
    "allCode['operations']= [re.findall(lettersPattern,str(x)) for x in allCode['operations']]\n"
   ]
  },
  {
   "cell_type": "code",
   "execution_count": 98,
   "metadata": {
    "scrolled": true
   },
   "outputs": [],
   "source": [
    "functionList = allCode['functions'].tolist()\n",
    "operationList = allCode['operations'].tolist()"
   ]
  },
  {
   "cell_type": "code",
   "execution_count": null,
   "metadata": {
    "scrolled": false
   },
   "outputs": [],
   "source": []
  },
  {
   "cell_type": "code",
   "execution_count": 102,
   "metadata": {
    "scrolled": true
   },
   "outputs": [],
   "source": [
    "# tokenize functions\n",
    "\n",
    "tokenizer = Tokenizer(num_words= 99999999999)\n",
    "functionTokens = tokenizer.fit_on_texts(operationList)"
   ]
  },
  {
   "cell_type": "code",
   "execution_count": 103,
   "metadata": {},
   "outputs": [],
   "source": [
    "word_index = tokenizer.word_index"
   ]
  },
  {
   "cell_type": "code",
   "execution_count": 104,
   "metadata": {},
   "outputs": [],
   "source": [
    "f = open(path+\"operations.txt\", \"a\")\n",
    "f.write(str(word_index))\n",
    "f.close()"
   ]
  },
  {
   "cell_type": "code",
   "execution_count": null,
   "metadata": {},
   "outputs": [],
   "source": [
    "f = open(path+\"operations.txt\",\"r\")\n",
    "file = f.read()\n",
    "pickle.dumps"
   ]
  }
 ],
 "metadata": {
  "kernelspec": {
   "display_name": "Python 3",
   "language": "python",
   "name": "python3"
  },
  "language_info": {
   "codemirror_mode": {
    "name": "ipython",
    "version": 3
   },
   "file_extension": ".py",
   "mimetype": "text/x-python",
   "name": "python",
   "nbconvert_exporter": "python",
   "pygments_lexer": "ipython3",
   "version": "3.8.8"
  }
 },
 "nbformat": 4,
 "nbformat_minor": 4
}
